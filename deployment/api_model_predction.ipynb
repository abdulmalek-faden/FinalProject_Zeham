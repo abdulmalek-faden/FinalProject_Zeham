{
 "cells": [
  {
   "cell_type": "code",
   "execution_count": 29,
   "metadata": {},
   "outputs": [
    {
     "name": "stdout",
     "output_type": "stream",
     "text": [
      "Number of predictions returned: 5\n",
      "Locations sorted by predicted jam factor:\n",
      "Location: شارع ابي موسى الأشعري, Predicted Jam Factor: 0\n",
      "Location: 65/500/طريق الحزام الشرقي, Predicted Jam Factor: 0\n",
      "Location: شارع الشيخ عمر بن سليم, Predicted Jam Factor: 0\n",
      "Location: 13/522/طريق الحزام الشرقي/طريق خريص, Predicted Jam Factor: 0\n",
      "Location: شارع الأمير متعب بن عبدالعزيز, Predicted Jam Factor: 1.153647541999817\n"
     ]
    }
   ],
   "source": [
    "import requests\n",
    "\n",
    "\n",
    "url = \"http://localhost:5000/predict\"  \n",
    "\n",
    "payload = {\n",
    "    \"locations\": [\n",
    "        \"شارع ابي موسى الأشعري\", \n",
    "        \"شارع الأمير متعب بن عبدالعزيز\", \n",
    "        \"65/500/طريق الحزام الشرقي\", \n",
    "        \"شارع الشيخ عمر بن سليم\", \n",
    "        \"13/522/طريق الحزام الشرقي/طريق خريص\"\n",
    "    ],\n",
    "    \"timestamp\": \"2024-10-01 02:18:47\"\n",
    "}\n",
    "\n",
    "\n",
    "response = requests.post(url, json=payload)\n",
    "\n",
    "\n",
    "if response.status_code == 200:\n",
    "    # Extract the sorted predictions from the response\n",
    "    sorted_predictions = response.json().get('sorted_predictions', [])\n",
    "    \n",
    "    # Debug: Print the number of predictions\n",
    "    print(f\"Number of predictions returned: {len(sorted_predictions)}\")\n",
    "\n",
    "    # Print all locations and jam factors (clipping negative values to zero)\n",
    "    print(\"Locations sorted by predicted jam factor:\")\n",
    "    for item in sorted_predictions:\n",
    "        location = item['location']\n",
    "        jam_factor = ( item['predicted_jamFactor'])  # Clip negative values to zero\n",
    "        print(f\"Location: {location}, Predicted Jam Factor: {jam_factor}\")\n",
    "else:\n",
    "    \n",
    "    print(f\"Error: {response.status_code}, {response.text}\")\n"
   ]
  },
  {
   "cell_type": "code",
   "execution_count": null,
   "metadata": {},
   "outputs": [],
   "source": []
  }
 ],
 "metadata": {
  "kernelspec": {
   "display_name": "Python 3",
   "language": "python",
   "name": "python3"
  },
  "language_info": {
   "codemirror_mode": {
    "name": "ipython",
    "version": 3
   },
   "file_extension": ".py",
   "mimetype": "text/x-python",
   "name": "python",
   "nbconvert_exporter": "python",
   "pygments_lexer": "ipython3",
   "version": "3.12.4"
  }
 },
 "nbformat": 4,
 "nbformat_minor": 2
}
